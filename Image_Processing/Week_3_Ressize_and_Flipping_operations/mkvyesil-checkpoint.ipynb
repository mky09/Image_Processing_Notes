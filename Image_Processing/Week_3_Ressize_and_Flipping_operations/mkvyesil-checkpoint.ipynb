{
 "cells": [
  {
   "cell_type": "code",
   "execution_count": 3,
   "id": "b044ff92-3e12-40b4-aa7f-f0a5d21b74cd",
   "metadata": {},
   "outputs": [],
   "source": [
    "import cv2\n",
    "import numpy as np"
   ]
  },
  {
   "cell_type": "code",
   "execution_count": 5,
   "id": "53377b1d-f6fb-40d0-ac02-72ef53f849c4",
   "metadata": {},
   "outputs": [
    {
     "data": {
      "text/plain": [
       "(1280, 821, 3)"
      ]
     },
     "execution_count": 5,
     "metadata": {},
     "output_type": "execute_result"
    }
   ],
   "source": [
    "my_img = cv2.imread(\"./cuma.webp\",1)\n",
    "my_img.shape"
   ]
  },
  {
   "cell_type": "code",
   "execution_count": 13,
   "id": "b82180be-c31d-4df5-80ac-ff11006fda67",
   "metadata": {},
   "outputs": [],
   "source": [
    "cv2.imshow(\"RGB Image\",my_img)\n",
    "cv2.waitKey(0)\n",
    "cv2.destroyAllWindows()"
   ]
  },
  {
   "cell_type": "code",
   "execution_count": 28,
   "id": "0df30837-be97-472d-ae9b-90482e66cca1",
   "metadata": {},
   "outputs": [],
   "source": [
    "vertical_img = cv2.flip(my_img,0)\n",
    "horizontal_img = cv2.flip(my_img,1)\n",
    "both_img = cv2.flip(my_img,-1)\n"
   ]
  },
  {
   "cell_type": "code",
   "execution_count": 32,
   "id": "723a9452-582f-4b56-9aab-b2e456373041",
   "metadata": {},
   "outputs": [],
   "source": [
    "cv2.imshow(\"Original Image\",my_img)\n",
    "cv2.imshow(\"vertical Image\",vertical_img)\n",
    "cv2.imshow(\"horizontal Image\",horizontal_img)\n",
    "cv2.imshow(\"bothl Image\",both_img)\n",
    "cv2.waitKey(0)\n",
    "cv2.destroyAllWindows()"
   ]
  },
  {
   "cell_type": "code",
   "execution_count": 36,
   "id": "01a9cc21-94d2-41c8-ae3d-f81678685212",
   "metadata": {},
   "outputs": [
    {
     "data": {
      "text/plain": [
       "numpy.ndarray"
      ]
     },
     "execution_count": 36,
     "metadata": {},
     "output_type": "execute_result"
    }
   ],
   "source": [
    "type(my_img)"
   ]
  },
  {
   "cell_type": "code",
   "execution_count": 44,
   "id": "9b4f7d78-9332-44fb-8b9b-26a5e40c289c",
   "metadata": {},
   "outputs": [],
   "source": [
    "new_vertical_img = my_img[::-1,:,:]\n",
    "new_horizontal_img = my_img[:,::-1,:]\n",
    "new_both_img = my_img[::-1,::-1,:]"
   ]
  },
  {
   "cell_type": "code",
   "execution_count": 50,
   "id": "f19337ee-02d7-4ab2-b2b3-eb7030a1fb67",
   "metadata": {},
   "outputs": [],
   "source": [
    "cv2.imshow(\"RGB Irgmage\",new_vertical_img)\n",
    "cv2.imshow(\"RGB Imadfge\",new_horizontal_img)\n",
    "cv2.imshow(\"RGB Imaage\",new_both_img)\n",
    "cv2.waitKey(0)\n",
    "cv2.destroyAllWindows()"
   ]
  },
  {
   "cell_type": "code",
   "execution_count": 80,
   "id": "5325d7ca-6439-45a2-891a-f825feaee2ac",
   "metadata": {},
   "outputs": [],
   "source": [
    "my_resized_img = cv2.resize(my_img,(600,500),cv2.INTER_LANCZOS4)\n",
    "cv2.imshow(\"RGB Image\",my_resized_img)\n",
    "cv2.imshow(\"normal resim\",my_img)\n",
    "\n",
    "cv2.waitKey(0)\n",
    "cv2.destroyAllWindows()"
   ]
  },
  {
   "cell_type": "code",
   "execution_count": null,
   "id": "b0ecd8c0-4ca9-409f-a811-7ac21814be5b",
   "metadata": {},
   "outputs": [],
   "source": [
    "cv2.imwrite(\"./"
   ]
  }
 ],
 "metadata": {
  "kernelspec": {
   "display_name": "env_ybs",
   "language": "python",
   "name": "env_ybs"
  },
  "language_info": {
   "codemirror_mode": {
    "name": "ipython",
    "version": 3
   },
   "file_extension": ".py",
   "mimetype": "text/x-python",
   "name": "python",
   "nbconvert_exporter": "python",
   "pygments_lexer": "ipython3",
   "version": "3.10.10"
  }
 },
 "nbformat": 4,
 "nbformat_minor": 5
}
